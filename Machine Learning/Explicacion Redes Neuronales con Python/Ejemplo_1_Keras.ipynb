{
 "cells": [
  {
   "cell_type": "markdown",
   "metadata": {},
   "source": [
    "# Redes Neuronales con Keras"
   ]
  },
  {
   "cell_type": "markdown",
   "metadata": {},
   "source": [
    "A continuación mostraremos un ejemplo de red neuronal utilizando Keras. Keras es una API de redes neuronales de alto nivel, escrita en Python y capaz de ejecutarse sobre TensorFlow, CNTK o Theano. Está desarrollada con un enfoque que permite la experimentación rápida, con lo que encaja perfectamente con nuestro objetivo de acercarnos a las redes neuronales. En este sentido, comentaremos en detalle todos los pasos que damos a fin de que el código sea didáctico."
   ]
  },
  {
   "cell_type": "markdown",
   "metadata": {},
   "source": [
    "En primer lugar, importamos las funciones Sequential y Dense de la API Keras, tanto de keras.models como de keras.layers"
   ]
  },
  {
   "cell_type": "code",
   "execution_count": 45,
   "metadata": {
    "collapsed": true
   },
   "outputs": [],
   "source": [
    "import keras\n",
    "import numpy as np\n",
    "import scipy as sc\n",
    "from scipy import stats\n",
    "import pandas as pd"
   ]
  },
  {
   "cell_type": "code",
   "execution_count": 192,
   "metadata": {
    "collapsed": true
   },
   "outputs": [],
   "source": [
    "import sklearn as sk\n",
    "from sklearn import metrics"
   ]
  },
  {
   "cell_type": "code",
   "execution_count": 157,
   "metadata": {
    "collapsed": true
   },
   "outputs": [],
   "source": [
    "import matplotlib as mpl\n",
    "import matplotlib.pyplot as plt\n",
    "\n",
    "%matplotlib inline"
   ]
  },
  {
   "cell_type": "code",
   "execution_count": 1,
   "metadata": {},
   "outputs": [
    {
     "name": "stderr",
     "output_type": "stream",
     "text": [
      "Using TensorFlow backend.\n"
     ]
    }
   ],
   "source": [
    "from keras.models import Sequential\n",
    "from keras.layers import Dense\n",
    "\n",
    "# fijamos el seed para hacer el código reproducible\n",
    "numpy.random.seed(7)"
   ]
  },
  {
   "cell_type": "code",
   "execution_count": 114,
   "metadata": {
    "collapsed": true
   },
   "outputs": [],
   "source": [
    "#carga de datos con numpy\n",
    "dataset = np.loadtxt(\"givemetrain_limpio.csv\", delimiter=\"|\")"
   ]
  },
  {
   "cell_type": "markdown",
   "metadata": {},
   "source": [
    "En primer lugar cargaremos los datos que utilizaremos. Vamos a utilizar el conjunto de datos de entrenamiento de **Give me some credit** de Kaggle que utilizamos en la anterior práctica.\n",
    "\n",
    "Este dataset tiene las siguientes variables:  \n",
    "\n",
    "- Varibles sin uso (columna 0)\n",
    "    - Índice(columna 0): esta variable no la tendremos en cuenta puesto que no aporta información\n",
    "- Variable a predecir (columna 1)\n",
    "    - SeriousDlqin2yrs\n",
    "- Variables predectoras (columnas 2 a 13)\n",
    "    - RevolvingUtilizationOfUnsecuredLines:\n",
    "    - age\n",
    "    - NumberOfTime30.59DaysPastDueNotWorse\n",
    "    - DebtRatio \n",
    "    - MonthlyIncome\n",
    "    - NumberOfOpenCreditLinesAndLoans\n",
    "    - NumberOfTimes90DaysLate\n",
    "    - NumberRealEstateLoansOrLines\n",
    "    - NumberOfTime60.89DaysPastDueNotWorse\n",
    "    - NumberOfDependents\n",
    "    - NAIncome\n",
    "    - NADependents\n",
    "\n",
    "Hemos imputado el dataset con los NA de number of dependents y NA income convertidos a cero. Por ello hemos creado las variables NA dependents y NA income (se trata de variable de tipo binaria, toman el valor 1 cuando hay NA y cero en caso contratrio.\n"
   ]
  },
  {
   "cell_type": "code",
   "execution_count": 144,
   "metadata": {},
   "outputs": [
    {
     "data": {
      "text/plain": [
       "(150000, 14)"
      ]
     },
     "execution_count": 144,
     "metadata": {},
     "output_type": "execute_result"
    }
   ],
   "source": [
    "dataset.shape"
   ]
  },
  {
   "cell_type": "markdown",
   "metadata": {},
   "source": [
    "Tenemos un dataset con 150.000 filas y 14 columnas"
   ]
  },
  {
   "cell_type": "code",
   "execution_count": 171,
   "metadata": {
    "collapsed": true
   },
   "outputs": [],
   "source": [
    "dataset_pandas = pd.DataFrame(dataset,columns=['Índice','SeriousDlqin2yrs','RevolvingUtilizationOfUnsecuredLines',\n",
    "                                              'age','NumberOfTime30.59DaysPastDueNotWorse',\n",
    "                                               'DebtRatio','MonthlyIncome','NumberOfOpenCreditLinesAndLoans',\n",
    "                                               'NumberOfTimes90DaysLate','NumberRealEstateLoansOrLines',\n",
    "                                               'NumberOfTime60.89DaysPastDueNotWorse',\n",
    "                                              'NumberOfDependents','NAIncome','NADependents'])"
   ]
  },
  {
   "cell_type": "code",
   "execution_count": 172,
   "metadata": {},
   "outputs": [
    {
     "data": {
      "text/html": [
       "<div>\n",
       "<style scoped>\n",
       "    .dataframe tbody tr th:only-of-type {\n",
       "        vertical-align: middle;\n",
       "    }\n",
       "\n",
       "    .dataframe tbody tr th {\n",
       "        vertical-align: top;\n",
       "    }\n",
       "\n",
       "    .dataframe thead th {\n",
       "        text-align: right;\n",
       "    }\n",
       "</style>\n",
       "<table border=\"1\" class=\"dataframe\">\n",
       "  <thead>\n",
       "    <tr style=\"text-align: right;\">\n",
       "      <th></th>\n",
       "      <th>Índice</th>\n",
       "      <th>SeriousDlqin2yrs</th>\n",
       "      <th>RevolvingUtilizationOfUnsecuredLines</th>\n",
       "      <th>age</th>\n",
       "      <th>NumberOfTime30.59DaysPastDueNotWorse</th>\n",
       "      <th>DebtRatio</th>\n",
       "      <th>MonthlyIncome</th>\n",
       "      <th>NumberOfOpenCreditLinesAndLoans</th>\n",
       "      <th>NumberOfTimes90DaysLate</th>\n",
       "      <th>NumberRealEstateLoansOrLines</th>\n",
       "      <th>NumberOfTime60.89DaysPastDueNotWorse</th>\n",
       "      <th>NumberOfDependents</th>\n",
       "      <th>NAIncome</th>\n",
       "      <th>NADependents</th>\n",
       "    </tr>\n",
       "  </thead>\n",
       "  <tbody>\n",
       "    <tr>\n",
       "      <th>count</th>\n",
       "      <td>150000.000000</td>\n",
       "      <td>150000.000000</td>\n",
       "      <td>150000.000000</td>\n",
       "      <td>150000.000000</td>\n",
       "      <td>150000.000000</td>\n",
       "      <td>150000.000000</td>\n",
       "      <td>1.500000e+05</td>\n",
       "      <td>150000.000000</td>\n",
       "      <td>150000.000000</td>\n",
       "      <td>150000.000000</td>\n",
       "      <td>150000.000000</td>\n",
       "      <td>150000.000000</td>\n",
       "      <td>150000.000000</td>\n",
       "      <td>150000.000000</td>\n",
       "    </tr>\n",
       "    <tr>\n",
       "      <th>mean</th>\n",
       "      <td>75000.500000</td>\n",
       "      <td>0.066840</td>\n",
       "      <td>6.048438</td>\n",
       "      <td>52.295207</td>\n",
       "      <td>0.421033</td>\n",
       "      <td>353.005076</td>\n",
       "      <td>5.348139e+03</td>\n",
       "      <td>8.452760</td>\n",
       "      <td>0.265973</td>\n",
       "      <td>1.018240</td>\n",
       "      <td>0.240387</td>\n",
       "      <td>0.737413</td>\n",
       "      <td>0.198207</td>\n",
       "      <td>0.026160</td>\n",
       "    </tr>\n",
       "    <tr>\n",
       "      <th>std</th>\n",
       "      <td>43301.414527</td>\n",
       "      <td>0.249746</td>\n",
       "      <td>249.755371</td>\n",
       "      <td>14.771866</td>\n",
       "      <td>4.192781</td>\n",
       "      <td>2037.818523</td>\n",
       "      <td>1.315206e+04</td>\n",
       "      <td>5.145951</td>\n",
       "      <td>4.169304</td>\n",
       "      <td>1.129771</td>\n",
       "      <td>4.155179</td>\n",
       "      <td>1.107021</td>\n",
       "      <td>0.398650</td>\n",
       "      <td>0.159611</td>\n",
       "    </tr>\n",
       "    <tr>\n",
       "      <th>min</th>\n",
       "      <td>1.000000</td>\n",
       "      <td>0.000000</td>\n",
       "      <td>0.000000</td>\n",
       "      <td>0.000000</td>\n",
       "      <td>0.000000</td>\n",
       "      <td>0.000000</td>\n",
       "      <td>0.000000e+00</td>\n",
       "      <td>0.000000</td>\n",
       "      <td>0.000000</td>\n",
       "      <td>0.000000</td>\n",
       "      <td>0.000000</td>\n",
       "      <td>0.000000</td>\n",
       "      <td>0.000000</td>\n",
       "      <td>0.000000</td>\n",
       "    </tr>\n",
       "    <tr>\n",
       "      <th>25%</th>\n",
       "      <td>37500.750000</td>\n",
       "      <td>0.000000</td>\n",
       "      <td>0.029867</td>\n",
       "      <td>41.000000</td>\n",
       "      <td>0.000000</td>\n",
       "      <td>0.175074</td>\n",
       "      <td>1.550000e+03</td>\n",
       "      <td>5.000000</td>\n",
       "      <td>0.000000</td>\n",
       "      <td>0.000000</td>\n",
       "      <td>0.000000</td>\n",
       "      <td>0.000000</td>\n",
       "      <td>0.000000</td>\n",
       "      <td>0.000000</td>\n",
       "    </tr>\n",
       "    <tr>\n",
       "      <th>50%</th>\n",
       "      <td>75000.500000</td>\n",
       "      <td>0.000000</td>\n",
       "      <td>0.154181</td>\n",
       "      <td>52.000000</td>\n",
       "      <td>0.000000</td>\n",
       "      <td>0.366508</td>\n",
       "      <td>4.357500e+03</td>\n",
       "      <td>8.000000</td>\n",
       "      <td>0.000000</td>\n",
       "      <td>1.000000</td>\n",
       "      <td>0.000000</td>\n",
       "      <td>0.000000</td>\n",
       "      <td>0.000000</td>\n",
       "      <td>0.000000</td>\n",
       "    </tr>\n",
       "    <tr>\n",
       "      <th>75%</th>\n",
       "      <td>112500.250000</td>\n",
       "      <td>0.000000</td>\n",
       "      <td>0.559046</td>\n",
       "      <td>63.000000</td>\n",
       "      <td>0.000000</td>\n",
       "      <td>0.868254</td>\n",
       "      <td>7.400000e+03</td>\n",
       "      <td>11.000000</td>\n",
       "      <td>0.000000</td>\n",
       "      <td>2.000000</td>\n",
       "      <td>0.000000</td>\n",
       "      <td>1.000000</td>\n",
       "      <td>0.000000</td>\n",
       "      <td>0.000000</td>\n",
       "    </tr>\n",
       "    <tr>\n",
       "      <th>max</th>\n",
       "      <td>150000.000000</td>\n",
       "      <td>1.000000</td>\n",
       "      <td>50708.000000</td>\n",
       "      <td>109.000000</td>\n",
       "      <td>98.000000</td>\n",
       "      <td>329664.000000</td>\n",
       "      <td>3.008750e+06</td>\n",
       "      <td>58.000000</td>\n",
       "      <td>98.000000</td>\n",
       "      <td>54.000000</td>\n",
       "      <td>98.000000</td>\n",
       "      <td>20.000000</td>\n",
       "      <td>1.000000</td>\n",
       "      <td>1.000000</td>\n",
       "    </tr>\n",
       "  </tbody>\n",
       "</table>\n",
       "</div>"
      ],
      "text/plain": [
       "              Índice  SeriousDlqin2yrs  RevolvingUtilizationOfUnsecuredLines  \\\n",
       "count  150000.000000     150000.000000                         150000.000000   \n",
       "mean    75000.500000          0.066840                              6.048438   \n",
       "std     43301.414527          0.249746                            249.755371   \n",
       "min         1.000000          0.000000                              0.000000   \n",
       "25%     37500.750000          0.000000                              0.029867   \n",
       "50%     75000.500000          0.000000                              0.154181   \n",
       "75%    112500.250000          0.000000                              0.559046   \n",
       "max    150000.000000          1.000000                          50708.000000   \n",
       "\n",
       "                 age  NumberOfTime30.59DaysPastDueNotWorse      DebtRatio  \\\n",
       "count  150000.000000                         150000.000000  150000.000000   \n",
       "mean       52.295207                              0.421033     353.005076   \n",
       "std        14.771866                              4.192781    2037.818523   \n",
       "min         0.000000                              0.000000       0.000000   \n",
       "25%        41.000000                              0.000000       0.175074   \n",
       "50%        52.000000                              0.000000       0.366508   \n",
       "75%        63.000000                              0.000000       0.868254   \n",
       "max       109.000000                             98.000000  329664.000000   \n",
       "\n",
       "       MonthlyIncome  NumberOfOpenCreditLinesAndLoans  \\\n",
       "count   1.500000e+05                    150000.000000   \n",
       "mean    5.348139e+03                         8.452760   \n",
       "std     1.315206e+04                         5.145951   \n",
       "min     0.000000e+00                         0.000000   \n",
       "25%     1.550000e+03                         5.000000   \n",
       "50%     4.357500e+03                         8.000000   \n",
       "75%     7.400000e+03                        11.000000   \n",
       "max     3.008750e+06                        58.000000   \n",
       "\n",
       "       NumberOfTimes90DaysLate  NumberRealEstateLoansOrLines  \\\n",
       "count            150000.000000                 150000.000000   \n",
       "mean                  0.265973                      1.018240   \n",
       "std                   4.169304                      1.129771   \n",
       "min                   0.000000                      0.000000   \n",
       "25%                   0.000000                      0.000000   \n",
       "50%                   0.000000                      1.000000   \n",
       "75%                   0.000000                      2.000000   \n",
       "max                  98.000000                     54.000000   \n",
       "\n",
       "       NumberOfTime60.89DaysPastDueNotWorse  NumberOfDependents  \\\n",
       "count                         150000.000000       150000.000000   \n",
       "mean                               0.240387            0.737413   \n",
       "std                                4.155179            1.107021   \n",
       "min                                0.000000            0.000000   \n",
       "25%                                0.000000            0.000000   \n",
       "50%                                0.000000            0.000000   \n",
       "75%                                0.000000            1.000000   \n",
       "max                               98.000000           20.000000   \n",
       "\n",
       "            NAIncome   NADependents  \n",
       "count  150000.000000  150000.000000  \n",
       "mean        0.198207       0.026160  \n",
       "std         0.398650       0.159611  \n",
       "min         0.000000       0.000000  \n",
       "25%         0.000000       0.000000  \n",
       "50%         0.000000       0.000000  \n",
       "75%         0.000000       0.000000  \n",
       "max         1.000000       1.000000  "
      ]
     },
     "execution_count": 172,
     "metadata": {},
     "output_type": "execute_result"
    }
   ],
   "source": [
    "dataset_pandas.describe()"
   ]
  },
  {
   "cell_type": "code",
   "execution_count": 186,
   "metadata": {},
   "outputs": [
    {
     "data": {
      "text/html": [
       "<div>\n",
       "<style scoped>\n",
       "    .dataframe tbody tr th:only-of-type {\n",
       "        vertical-align: middle;\n",
       "    }\n",
       "\n",
       "    .dataframe tbody tr th {\n",
       "        vertical-align: top;\n",
       "    }\n",
       "\n",
       "    .dataframe thead th {\n",
       "        text-align: right;\n",
       "    }\n",
       "</style>\n",
       "<table border=\"1\" class=\"dataframe\">\n",
       "  <thead>\n",
       "    <tr style=\"text-align: right;\">\n",
       "      <th></th>\n",
       "      <th>SeriousDlqin2yrs</th>\n",
       "      <th>RevolvingUtilizationOfUnsecuredLines</th>\n",
       "      <th>age</th>\n",
       "      <th>NumberOfTime30.59DaysPastDueNotWorse</th>\n",
       "      <th>DebtRatio</th>\n",
       "      <th>MonthlyIncome</th>\n",
       "      <th>NumberOfOpenCreditLinesAndLoans</th>\n",
       "      <th>NumberOfTimes90DaysLate</th>\n",
       "      <th>NumberRealEstateLoansOrLines</th>\n",
       "      <th>NumberOfTime60.89DaysPastDueNotWorse</th>\n",
       "      <th>NumberOfDependents</th>\n",
       "    </tr>\n",
       "  </thead>\n",
       "  <tbody>\n",
       "    <tr>\n",
       "      <th>SeriousDlqin2yrs</th>\n",
       "      <td>1.000000</td>\n",
       "      <td>-0.001802</td>\n",
       "      <td>-0.115386</td>\n",
       "      <td>0.125587</td>\n",
       "      <td>-0.007602</td>\n",
       "      <td>-0.013322</td>\n",
       "      <td>-0.029669</td>\n",
       "      <td>0.117175</td>\n",
       "      <td>-0.007038</td>\n",
       "      <td>0.102261</td>\n",
       "      <td>0.046869</td>\n",
       "    </tr>\n",
       "    <tr>\n",
       "      <th>RevolvingUtilizationOfUnsecuredLines</th>\n",
       "      <td>-0.001802</td>\n",
       "      <td>1.000000</td>\n",
       "      <td>-0.005898</td>\n",
       "      <td>-0.001314</td>\n",
       "      <td>0.003961</td>\n",
       "      <td>0.006188</td>\n",
       "      <td>-0.011281</td>\n",
       "      <td>-0.001061</td>\n",
       "      <td>0.006235</td>\n",
       "      <td>-0.001048</td>\n",
       "      <td>0.001193</td>\n",
       "    </tr>\n",
       "    <tr>\n",
       "      <th>age</th>\n",
       "      <td>-0.115386</td>\n",
       "      <td>-0.005898</td>\n",
       "      <td>1.000000</td>\n",
       "      <td>-0.062995</td>\n",
       "      <td>0.024188</td>\n",
       "      <td>0.004626</td>\n",
       "      <td>0.147705</td>\n",
       "      <td>-0.061005</td>\n",
       "      <td>0.033150</td>\n",
       "      <td>-0.057159</td>\n",
       "      <td>-0.215693</td>\n",
       "    </tr>\n",
       "    <tr>\n",
       "      <th>NumberOfTime30.59DaysPastDueNotWorse</th>\n",
       "      <td>0.125587</td>\n",
       "      <td>-0.001314</td>\n",
       "      <td>-0.062995</td>\n",
       "      <td>1.000000</td>\n",
       "      <td>-0.006542</td>\n",
       "      <td>-0.011286</td>\n",
       "      <td>-0.055312</td>\n",
       "      <td>0.983603</td>\n",
       "      <td>-0.030565</td>\n",
       "      <td>0.987005</td>\n",
       "      <td>-0.004590</td>\n",
       "    </tr>\n",
       "    <tr>\n",
       "      <th>DebtRatio</th>\n",
       "      <td>-0.007602</td>\n",
       "      <td>0.003961</td>\n",
       "      <td>0.024188</td>\n",
       "      <td>-0.006542</td>\n",
       "      <td>1.000000</td>\n",
       "      <td>-0.070378</td>\n",
       "      <td>0.049565</td>\n",
       "      <td>-0.008320</td>\n",
       "      <td>0.120046</td>\n",
       "      <td>-0.007533</td>\n",
       "      <td>-0.044476</td>\n",
       "    </tr>\n",
       "    <tr>\n",
       "      <th>MonthlyIncome</th>\n",
       "      <td>-0.013322</td>\n",
       "      <td>0.006188</td>\n",
       "      <td>0.004626</td>\n",
       "      <td>-0.011286</td>\n",
       "      <td>-0.070378</td>\n",
       "      <td>1.000000</td>\n",
       "      <td>0.104777</td>\n",
       "      <td>-0.014559</td>\n",
       "      <td>0.124531</td>\n",
       "      <td>-0.013232</td>\n",
       "      <td>0.099020</td>\n",
       "    </tr>\n",
       "    <tr>\n",
       "      <th>NumberOfOpenCreditLinesAndLoans</th>\n",
       "      <td>-0.029669</td>\n",
       "      <td>-0.011281</td>\n",
       "      <td>0.147705</td>\n",
       "      <td>-0.055312</td>\n",
       "      <td>0.049565</td>\n",
       "      <td>0.104777</td>\n",
       "      <td>1.000000</td>\n",
       "      <td>-0.079984</td>\n",
       "      <td>0.433959</td>\n",
       "      <td>-0.071077</td>\n",
       "      <td>0.074026</td>\n",
       "    </tr>\n",
       "    <tr>\n",
       "      <th>NumberOfTimes90DaysLate</th>\n",
       "      <td>0.117175</td>\n",
       "      <td>-0.001061</td>\n",
       "      <td>-0.061005</td>\n",
       "      <td>0.983603</td>\n",
       "      <td>-0.008320</td>\n",
       "      <td>-0.014559</td>\n",
       "      <td>-0.079984</td>\n",
       "      <td>1.000000</td>\n",
       "      <td>-0.045205</td>\n",
       "      <td>0.992796</td>\n",
       "      <td>-0.011962</td>\n",
       "    </tr>\n",
       "    <tr>\n",
       "      <th>NumberRealEstateLoansOrLines</th>\n",
       "      <td>-0.007038</td>\n",
       "      <td>0.006235</td>\n",
       "      <td>0.033150</td>\n",
       "      <td>-0.030565</td>\n",
       "      <td>0.120046</td>\n",
       "      <td>0.124531</td>\n",
       "      <td>0.433959</td>\n",
       "      <td>-0.045205</td>\n",
       "      <td>1.000000</td>\n",
       "      <td>-0.039722</td>\n",
       "      <td>0.129399</td>\n",
       "    </tr>\n",
       "    <tr>\n",
       "      <th>NumberOfTime60.89DaysPastDueNotWorse</th>\n",
       "      <td>0.102261</td>\n",
       "      <td>-0.001048</td>\n",
       "      <td>-0.057159</td>\n",
       "      <td>0.987005</td>\n",
       "      <td>-0.007533</td>\n",
       "      <td>-0.013232</td>\n",
       "      <td>-0.071077</td>\n",
       "      <td>0.992796</td>\n",
       "      <td>-0.039722</td>\n",
       "      <td>1.000000</td>\n",
       "      <td>-0.012678</td>\n",
       "    </tr>\n",
       "    <tr>\n",
       "      <th>NumberOfDependents</th>\n",
       "      <td>0.046869</td>\n",
       "      <td>0.001193</td>\n",
       "      <td>-0.215693</td>\n",
       "      <td>-0.004590</td>\n",
       "      <td>-0.044476</td>\n",
       "      <td>0.099020</td>\n",
       "      <td>0.074026</td>\n",
       "      <td>-0.011962</td>\n",
       "      <td>0.129399</td>\n",
       "      <td>-0.012678</td>\n",
       "      <td>1.000000</td>\n",
       "    </tr>\n",
       "  </tbody>\n",
       "</table>\n",
       "</div>"
      ],
      "text/plain": [
       "                                      SeriousDlqin2yrs  \\\n",
       "SeriousDlqin2yrs                              1.000000   \n",
       "RevolvingUtilizationOfUnsecuredLines         -0.001802   \n",
       "age                                          -0.115386   \n",
       "NumberOfTime30.59DaysPastDueNotWorse          0.125587   \n",
       "DebtRatio                                    -0.007602   \n",
       "MonthlyIncome                                -0.013322   \n",
       "NumberOfOpenCreditLinesAndLoans              -0.029669   \n",
       "NumberOfTimes90DaysLate                       0.117175   \n",
       "NumberRealEstateLoansOrLines                 -0.007038   \n",
       "NumberOfTime60.89DaysPastDueNotWorse          0.102261   \n",
       "NumberOfDependents                            0.046869   \n",
       "\n",
       "                                      RevolvingUtilizationOfUnsecuredLines  \\\n",
       "SeriousDlqin2yrs                                                 -0.001802   \n",
       "RevolvingUtilizationOfUnsecuredLines                              1.000000   \n",
       "age                                                              -0.005898   \n",
       "NumberOfTime30.59DaysPastDueNotWorse                             -0.001314   \n",
       "DebtRatio                                                         0.003961   \n",
       "MonthlyIncome                                                     0.006188   \n",
       "NumberOfOpenCreditLinesAndLoans                                  -0.011281   \n",
       "NumberOfTimes90DaysLate                                          -0.001061   \n",
       "NumberRealEstateLoansOrLines                                      0.006235   \n",
       "NumberOfTime60.89DaysPastDueNotWorse                             -0.001048   \n",
       "NumberOfDependents                                                0.001193   \n",
       "\n",
       "                                           age  \\\n",
       "SeriousDlqin2yrs                     -0.115386   \n",
       "RevolvingUtilizationOfUnsecuredLines -0.005898   \n",
       "age                                   1.000000   \n",
       "NumberOfTime30.59DaysPastDueNotWorse -0.062995   \n",
       "DebtRatio                             0.024188   \n",
       "MonthlyIncome                         0.004626   \n",
       "NumberOfOpenCreditLinesAndLoans       0.147705   \n",
       "NumberOfTimes90DaysLate              -0.061005   \n",
       "NumberRealEstateLoansOrLines          0.033150   \n",
       "NumberOfTime60.89DaysPastDueNotWorse -0.057159   \n",
       "NumberOfDependents                   -0.215693   \n",
       "\n",
       "                                      NumberOfTime30.59DaysPastDueNotWorse  \\\n",
       "SeriousDlqin2yrs                                                  0.125587   \n",
       "RevolvingUtilizationOfUnsecuredLines                             -0.001314   \n",
       "age                                                              -0.062995   \n",
       "NumberOfTime30.59DaysPastDueNotWorse                              1.000000   \n",
       "DebtRatio                                                        -0.006542   \n",
       "MonthlyIncome                                                    -0.011286   \n",
       "NumberOfOpenCreditLinesAndLoans                                  -0.055312   \n",
       "NumberOfTimes90DaysLate                                           0.983603   \n",
       "NumberRealEstateLoansOrLines                                     -0.030565   \n",
       "NumberOfTime60.89DaysPastDueNotWorse                              0.987005   \n",
       "NumberOfDependents                                               -0.004590   \n",
       "\n",
       "                                      DebtRatio  MonthlyIncome  \\\n",
       "SeriousDlqin2yrs                      -0.007602      -0.013322   \n",
       "RevolvingUtilizationOfUnsecuredLines   0.003961       0.006188   \n",
       "age                                    0.024188       0.004626   \n",
       "NumberOfTime30.59DaysPastDueNotWorse  -0.006542      -0.011286   \n",
       "DebtRatio                              1.000000      -0.070378   \n",
       "MonthlyIncome                         -0.070378       1.000000   \n",
       "NumberOfOpenCreditLinesAndLoans        0.049565       0.104777   \n",
       "NumberOfTimes90DaysLate               -0.008320      -0.014559   \n",
       "NumberRealEstateLoansOrLines           0.120046       0.124531   \n",
       "NumberOfTime60.89DaysPastDueNotWorse  -0.007533      -0.013232   \n",
       "NumberOfDependents                    -0.044476       0.099020   \n",
       "\n",
       "                                      NumberOfOpenCreditLinesAndLoans  \\\n",
       "SeriousDlqin2yrs                                            -0.029669   \n",
       "RevolvingUtilizationOfUnsecuredLines                        -0.011281   \n",
       "age                                                          0.147705   \n",
       "NumberOfTime30.59DaysPastDueNotWorse                        -0.055312   \n",
       "DebtRatio                                                    0.049565   \n",
       "MonthlyIncome                                                0.104777   \n",
       "NumberOfOpenCreditLinesAndLoans                              1.000000   \n",
       "NumberOfTimes90DaysLate                                     -0.079984   \n",
       "NumberRealEstateLoansOrLines                                 0.433959   \n",
       "NumberOfTime60.89DaysPastDueNotWorse                        -0.071077   \n",
       "NumberOfDependents                                           0.074026   \n",
       "\n",
       "                                      NumberOfTimes90DaysLate  \\\n",
       "SeriousDlqin2yrs                                     0.117175   \n",
       "RevolvingUtilizationOfUnsecuredLines                -0.001061   \n",
       "age                                                 -0.061005   \n",
       "NumberOfTime30.59DaysPastDueNotWorse                 0.983603   \n",
       "DebtRatio                                           -0.008320   \n",
       "MonthlyIncome                                       -0.014559   \n",
       "NumberOfOpenCreditLinesAndLoans                     -0.079984   \n",
       "NumberOfTimes90DaysLate                              1.000000   \n",
       "NumberRealEstateLoansOrLines                        -0.045205   \n",
       "NumberOfTime60.89DaysPastDueNotWorse                 0.992796   \n",
       "NumberOfDependents                                  -0.011962   \n",
       "\n",
       "                                      NumberRealEstateLoansOrLines  \\\n",
       "SeriousDlqin2yrs                                         -0.007038   \n",
       "RevolvingUtilizationOfUnsecuredLines                      0.006235   \n",
       "age                                                       0.033150   \n",
       "NumberOfTime30.59DaysPastDueNotWorse                     -0.030565   \n",
       "DebtRatio                                                 0.120046   \n",
       "MonthlyIncome                                             0.124531   \n",
       "NumberOfOpenCreditLinesAndLoans                           0.433959   \n",
       "NumberOfTimes90DaysLate                                  -0.045205   \n",
       "NumberRealEstateLoansOrLines                              1.000000   \n",
       "NumberOfTime60.89DaysPastDueNotWorse                     -0.039722   \n",
       "NumberOfDependents                                        0.129399   \n",
       "\n",
       "                                      NumberOfTime60.89DaysPastDueNotWorse  \\\n",
       "SeriousDlqin2yrs                                                  0.102261   \n",
       "RevolvingUtilizationOfUnsecuredLines                             -0.001048   \n",
       "age                                                              -0.057159   \n",
       "NumberOfTime30.59DaysPastDueNotWorse                              0.987005   \n",
       "DebtRatio                                                        -0.007533   \n",
       "MonthlyIncome                                                    -0.013232   \n",
       "NumberOfOpenCreditLinesAndLoans                                  -0.071077   \n",
       "NumberOfTimes90DaysLate                                           0.992796   \n",
       "NumberRealEstateLoansOrLines                                     -0.039722   \n",
       "NumberOfTime60.89DaysPastDueNotWorse                              1.000000   \n",
       "NumberOfDependents                                               -0.012678   \n",
       "\n",
       "                                      NumberOfDependents  \n",
       "SeriousDlqin2yrs                                0.046869  \n",
       "RevolvingUtilizationOfUnsecuredLines            0.001193  \n",
       "age                                            -0.215693  \n",
       "NumberOfTime30.59DaysPastDueNotWorse           -0.004590  \n",
       "DebtRatio                                      -0.044476  \n",
       "MonthlyIncome                                   0.099020  \n",
       "NumberOfOpenCreditLinesAndLoans                 0.074026  \n",
       "NumberOfTimes90DaysLate                        -0.011962  \n",
       "NumberRealEstateLoansOrLines                    0.129399  \n",
       "NumberOfTime60.89DaysPastDueNotWorse           -0.012678  \n",
       "NumberOfDependents                              1.000000  "
      ]
     },
     "execution_count": 186,
     "metadata": {},
     "output_type": "execute_result"
    }
   ],
   "source": [
    "dataset_pandas.iloc[:,1:12].corr()"
   ]
  },
  {
   "cell_type": "code",
   "execution_count": 329,
   "metadata": {},
   "outputs": [
    {
     "data": {
      "image/png": "[encoded data removed]",
      "text/plain": [
       "<matplotlib.figure.Figure at 0x1757b557860>"
      ]
     },
     "metadata": {},
     "output_type": "display_data"
    }
   ],
   "source": [
    "dataset_pandas['MonthlyIncome'].plot(kind = 'kde' , style = 'b' ,figsize=(12,7));\n",
    "plt.xlim([0,30000]);"
   ]
  },
  {
   "cell_type": "code",
   "execution_count": 328,
   "metadata": {},
   "outputs": [
    {
     "data": {
      "image/png": "[encoded data removed]",
      "text/plain": [
       "<matplotlib.figure.Figure at 0x1757b3fc5c0>"
      ]
     },
     "metadata": {},
     "output_type": "display_data"
    }
   ],
   "source": [
    "dataset_pandas[['NumberOfTime60.89DaysPastDueNotWorse','NumberOfTimes90DaysLate',\n",
    "                'NumberOfTime30.59DaysPastDueNotWorse']].plot(kind='box',subplots=True,figsize=(12,7));"
   ]
  },
  {
   "cell_type": "code",
   "execution_count": 330,
   "metadata": {},
   "outputs": [
    {
     "data": {
      "image/png": "[encoded data removed]",
      "text/plain": [
       "<matplotlib.figure.Figure at 0x1757b74de80>"
      ]
     },
     "metadata": {},
     "output_type": "display_data"
    }
   ],
   "source": [
    "dataset_pandas[['RevolvingUtilizationOfUnsecuredLines','NumberOfOpenCreditLinesAndLoans',\n",
    "                'NumberRealEstateLoansOrLines']].plot(kind='box',subplots=True,figsize=(12,7));"
   ]
  },
  {
   "cell_type": "code",
   "execution_count": 47,
   "metadata": {
    "collapsed": true
   },
   "outputs": [],
   "source": [
    "#Establecemos la semilla aleatoria\n",
    "np.random.seed(1234)"
   ]
  },
  {
   "cell_type": "code",
   "execution_count": 115,
   "metadata": {
    "collapsed": true
   },
   "outputs": [],
   "source": [
    "# Utilizamos la funcion rand del paquete random dentro de numpy\n",
    "#Genera valores aleatorios entre 0 y 1 siguiendo una distribucion uniforme para el tamaño establecido\n",
    "#En este caso el tamaño es el numero de filas del dataset\n",
    "#Nos quedaremos con los valores por debajo del 0.80, es decir, al ser una distribucion aleatoria\n",
    "#con el 80% del dataset\n",
    "msk = np.random.rand(dataset.shape[0]) < 0.8"
   ]
  },
  {
   "cell_type": "code",
   "execution_count": 116,
   "metadata": {
    "collapsed": true
   },
   "outputs": [],
   "source": [
    "#Del dataset nos quedamos con elementos que tienen true en msk es decir\n",
    "#tenian un valor aleatorio entre 0 y 0.8\n",
    "train = dataset[msk]"
   ]
  },
  {
   "cell_type": "code",
   "execution_count": 117,
   "metadata": {
    "collapsed": true
   },
   "outputs": [],
   "source": [
    "#Del dataset nos quedamos con elementos que tienen true en msk es decir\n",
    "#tenian un valor aleatorio superior e iguala 0.8\n",
    "test = dataset[~msk]"
   ]
  },
  {
   "cell_type": "code",
   "execution_count": 118,
   "metadata": {},
   "outputs": [
    {
     "data": {
      "text/plain": [
       "29927"
      ]
     },
     "execution_count": 118,
     "metadata": {},
     "output_type": "execute_result"
    }
   ],
   "source": [
    "len(test)"
   ]
  },
  {
   "cell_type": "code",
   "execution_count": 119,
   "metadata": {},
   "outputs": [
    {
     "data": {
      "text/plain": [
       "120073"
      ]
     },
     "execution_count": 119,
     "metadata": {},
     "output_type": "execute_result"
    }
   ],
   "source": [
    "len(train)"
   ]
  },
  {
   "cell_type": "code",
   "execution_count": 120,
   "metadata": {},
   "outputs": [
    {
     "data": {
      "text/plain": [
       "(150000, 14)"
      ]
     },
     "execution_count": 120,
     "metadata": {},
     "output_type": "execute_result"
    }
   ],
   "source": [
    "dataset.shape"
   ]
  },
  {
   "cell_type": "code",
   "execution_count": 128,
   "metadata": {
    "collapsed": true
   },
   "outputs": [],
   "source": [
    "# dividimos el dataset de train y de test en x(inputs) e y (variable a predecir)\n",
    "X_train = train[0:,2:]\n",
    "Y_train = train[:,1:2]\n",
    "X_test = test[:,2:]\n",
    "Y_test = test[:,1:2]"
   ]
  },
  {
   "cell_type": "markdown",
   "metadata": {},
   "source": [
    "Observamos el grado de desbalanceo en el train y en el test. Como se puede apreciar hay 14 veces mas observaciones con con seriosdelinquency igual a cero que con uno"
   ]
  },
  {
   "cell_type": "code",
   "execution_count": 247,
   "metadata": {},
   "outputs": [
    {
     "data": {
      "text/plain": [
       "13.911310413552567"
      ]
     },
     "execution_count": 247,
     "metadata": {},
     "output_type": "execute_result"
    }
   ],
   "source": [
    "#Test\n",
    "np.unique(Y_test,return_counts=True)[1][0]/np.unique(Y_test,return_counts=True)[1][1]"
   ]
  },
  {
   "cell_type": "code",
   "execution_count": 248,
   "metadata": {},
   "outputs": [
    {
     "data": {
      "text/plain": [
       "13.973562788377603"
      ]
     },
     "execution_count": 248,
     "metadata": {},
     "output_type": "execute_result"
    }
   ],
   "source": [
    "#Train\n",
    "np.unique(Y_train,return_counts=True)[1][0]/np.unique(Y_train,return_counts=True)[1][1]"
   ]
  },
  {
   "cell_type": "markdown",
   "metadata": {},
   "source": [
    "A continuación vamos a estimar el modelo. Los modelos en Keras se definen como una secuencia de capas, por lo que creamos un modelo secuencial y agregamos capas una a una hasta que estamos satisfechos con nuestra topología de red.\n",
    "\n",
    "Es primordial asegurarse de que la capa de entrada tenga la cantidad correcta de entradas. Para ello, especificaremos en el argumento *input_dim* que queremos establecerlo en 12, puesto que en nuestro caso tenemos 12 variables de entrada.\n",
    "\n",
    "La pregunta que a continuación nos planteamos es la siguiente: *¿Cómo sabemos la cantidad de capas y sus tipos?*\n",
    "\n",
    "Aunque hay heurísticas que podemos usar, a menudo la mejor estructura de red se encuentra a través de un proceso de experimentación de prueba y error. En este ejemplo didáctico, vamos a utilizar una estructura de red completamente conectada con tres capas.\n",
    "\n",
    "Las capas completamente conectadas se definen usando la clase *Dense*. Podemos especificar el número de neuronas en la capa como primer argumento, el método de inicialización como el segundo argumento como *init* y especificar la función de activación con el argumento *activation*.\n",
    "\n",
    "Segundo argumento, inicializar los pesos. Lo haremos en un número aleatorio generado a partir de una distribución uniforme (*'uniform'*) entre 0 y 0.05 (inicialización de peso uniforme predeterminada en Keras y, por tanto, no tenemos que poner *init='uniform'*). Si quieramos cambiar otra alternativa también tradicional sería  establecer *init* = *'normal'* para generar números aleatorios siguiendo una distribución gaussiana.\n",
    "\n",
    "Tercer argumento,  función de activación. Utilizaremos la función del rectificador (*'relu'*) en las tres primeras capas y la función sigmoidea en la capa de salida. Aplicamos la sigmoide en la capa de salida para asegurar que nuestra salida de red esté entre 0 y 1 y se facilite la asignación a la clase 1 o la clase 0. \n",
    "\n",
    "Las capas las vamos agregando una a una con .add, quedándonos un modelo conuna primera capa que tiene 128 neuronas y espera 12 variables de entrada, una segunda capa oculta que tiene 60 neuronas, una tercera capa oculta con 20 neuronas y la tercera capa o capa de salida que tiene 1 neurona para predecir la clase (aparición de diabetes o no)."
   ]
  },
  {
   "cell_type": "code",
   "execution_count": 582,
   "metadata": {
    "collapsed": true
   },
   "outputs": [],
   "source": [
    "# Estimamos el modelo con 3 capas\n",
    "model = Sequential()\n",
    "model.add(Dense(50, input_dim=12, activation='relu'))\n",
    "model.add(Dense(40, activation='relu'))\n",
    "model.add(Dense(20, activation='relu'))\n",
    "model.add(Dense(1, activation='sigmoid'))"
   ]
  },
  {
   "cell_type": "markdown",
   "metadata": {},
   "source": [
    "Ahora que el modelo está definido, podemos compilarlo.\n",
    "\n",
    "La compilación del modelo usa las librerías numéricas eficientes conocidas como *back-end*, como Theano o TensorFlow. El back-end elige automáticamente la mejor forma de representar la red para entrenar y hacer predicciones para ejecutar en el hardware o incluso en distribuido.\n",
    "\n",
    "Debemos especificar algunas propiedades adicionales requeridas al entrenar la red. Una de estas propiedades es la función de coste que se utilizará para evaluar un conjunto de ponderaciones, el optimizador utilizado para buscar diferentes ponderaciones para la red y cualquier métrica opcional que nos gustaría recopilar e informar durante el entrenamiento (accuracy, precision... medidas de la matriz de confusión).\n",
    "\n",
    "En este caso, usaremos la función de coste logarítmica, que para un problema de clasificación binaria se define en Keras como \"binary_crossentropy\". También usaremos el algoritmo eficiente de descenso de gradiente \"adam\" (opción por defecto de Keras). \n",
    "\n",
    "Finalmente, debido a que es un problema de clasificación, pediremos al al modelo que recoja e informe sobre el accuracy."
   ]
  },
  {
   "cell_type": "code",
   "execution_count": 583,
   "metadata": {
    "collapsed": true
   },
   "outputs": [],
   "source": [
    "# compilamos el modelo utilizando la funcion de coste logaritmica y el algoritmo de descenso de gradiente \"adam\".\n",
    "model.compile(loss='binary_crossentropy', optimizer='adam', metrics=['accuracy'])"
   ]
  },
  {
   "cell_type": "markdown",
   "metadata": {},
   "source": [
    "Vamos a proceder a pasar por el modelo nuestros datos para ver como se comporta. Para entrenar o ajustar nuestro modelo en nuestros datos cargados tenemos que llamar a la función fit () en el modelo.\n",
    "\n",
    "El proceso de capacitación se ejecutará para un número fijo de iteraciones a través del conjunto de datos llamado *epochs*, que debemos especificar utilizando el argumento *nepochs*. También podemos establecer el número de instancias que se evalúan antes de que se realice una actualización de los pesos en la red. Este número de instancias es lo que denominamos *batch size* y se establece con el argumento *batch_size*.\n",
    "\n",
    "En este caso, estableceremos un número pequeño de epochs(20) y usaremos un *batch size* de 40. Esto se podría ajustar mediante prueba y error. El número total de iteraciones sería por tanto de 400 (40 * 10)\n",
    "\n",
    "Class weight es la diferencia de pesos entre la variables binarias. Al ser una muestra desbalanceada, decidimos darle mas peso al resultado de 1: serious deliquency que a cero: no deliquency. En concreto la diferencia será de 8 a 1."
   ]
  },
  {
   "cell_type": "code",
   "execution_count": 584,
   "metadata": {},
   "outputs": [
    {
     "name": "stdout",
     "output_type": "stream",
     "text": [
      "Epoch 1/20\n",
      "120073/120073 [==============================] - 4s 35us/step - loss: 12.6385 - acc: 0.7993\n",
      "Epoch 2/20\n",
      "120073/120073 [==============================] - 3s 22us/step - loss: 11.9888 - acc: 0.8792\n",
      "Epoch 3/20\n",
      "120073/120073 [==============================] - 3s 22us/step - loss: 11.0303 - acc: 0.8815\n",
      "Epoch 4/20\n",
      "120073/120073 [==============================] - 3s 25us/step - loss: 10.8830 - acc: 0.8925\n",
      "Epoch 5/20\n",
      "120073/120073 [==============================] - 3s 28us/step - loss: 10.8660 - acc: 0.8766\n",
      "Epoch 6/20\n",
      "120073/120073 [==============================] - 5s 38us/step - loss: 10.8570 - acc: 0.8929\n",
      "Epoch 7/20\n",
      "120073/120073 [==============================] - 3s 28us/step - loss: 10.8486 - acc: 0.9081\n",
      "Epoch 8/20\n",
      "120073/120073 [==============================] - 3s 24us/step - loss: 10.8563 - acc: 0.9211\n",
      "Epoch 9/20\n",
      "120073/120073 [==============================] - 4s 30us/step - loss: 10.8421 - acc: 0.9232\n",
      "Epoch 10/20\n",
      "120073/120073 [==============================] - 3s 23us/step - loss: 10.8375 - acc: 0.9213\n",
      "Epoch 11/20\n",
      "120073/120073 [==============================] - 5s 44us/step - loss: 10.8411 - acc: 0.9222\n",
      "Epoch 12/20\n",
      "120073/120073 [==============================] - 4s 36us/step - loss: 10.8311 - acc: 0.9196\n",
      "Epoch 13/20\n",
      "120073/120073 [==============================] - 4s 29us/step - loss: 10.9730 - acc: 0.7702\n",
      "Epoch 14/20\n",
      "120073/120073 [==============================] - 3s 26us/step - loss: 11.4648 - acc: 0.5027\n",
      "Epoch 15/20\n",
      "120073/120073 [==============================] - 4s 31us/step - loss: 10.8286 - acc: 0.9163\n",
      "Epoch 16/20\n",
      "120073/120073 [==============================] - 3s 28us/step - loss: 10.8253 - acc: 0.9223\n",
      "Epoch 17/20\n",
      "120073/120073 [==============================] - 3s 25us/step - loss: 10.8202 - acc: 0.9191\n",
      "Epoch 18/20\n",
      "120073/120073 [==============================] - 3s 23us/step - loss: 10.8279 - acc: 0.9204\n",
      "Epoch 19/20\n",
      "120073/120073 [==============================] - 3s 23us/step - loss: 10.8463 - acc: 0.9105\n",
      "Epoch 20/20\n",
      "120073/120073 [==============================] - 3s 28us/step - loss: 11.1975 - acc: 0.6298\n"
     ]
    },
    {
     "data": {
      "text/plain": [
       "<keras.callbacks.History at 0x1750718ef98>"
      ]
     },
     "execution_count": 584,
     "metadata": {},
     "output_type": "execute_result"
    }
   ],
   "source": [
    "# Pasamos por el modelo nuestros datos X e Y. Epochs = nº de veces que se hace forward y backpropagation.\n",
    "#Batch_size = división del dataset.\n",
    "\n",
    "model.fit(X_train, Y_train, epochs=20, batch_size=80,class_weight = \n",
    "          {0 : 1.,1: 12})"
   ]
  },
  {
   "cell_type": "code",
   "execution_count": null,
   "metadata": {
    "collapsed": true
   },
   "outputs": [],
   "source": [
    "#model.fit(X_train, Y_train, epochs=10, batch_size=40,class_weight = \n",
    "          #{0 : 1.,1: 8})"
   ]
  },
  {
   "cell_type": "markdown",
   "metadata": {},
   "source": [
    "Tras entrenar la red neuronal en el conjunto de datos, podemos evaluar el rendimiento de la red. Esto nos mostrará lo sencillo que es ver el rendimiento del modelo en los datos. Es preciso destacar que aunque por simplicidad hayamos entrenado el algoritmo con todo el conjunto de datos, lo ideal sería separar la muestra en train y test para evaluar los resultados de forma correcta.\n",
    "\n",
    "Para evaluar el modelo en el conjunto de datos, utilizaremos la función *evaluate()*, lo que generará una predicción para cada par de entrada y salida y recopilará scores, incluido el coste promedio y cualquier métrica que se haya configurado previamente."
   ]
  },
  {
   "cell_type": "code",
   "execution_count": 585,
   "metadata": {},
   "outputs": [
    {
     "name": "stdout",
     "output_type": "stream",
     "text": [
      "29927/29927 [==============================] - 2s 64us/step\n",
      "\n",
      "acc: 84.53%\n"
     ]
    }
   ],
   "source": [
    "# evaluamos el modelo en el test y obtenemos el resultado\n",
    "scores = model.evaluate(X_test,Y_test)\n",
    "print(\"\\n%s: %.2f%%\" % (model.metrics_names[1], scores[1]*100))"
   ]
  },
  {
   "cell_type": "markdown",
   "metadata": {},
   "source": [
    "Podemos observar que hemos obtenido un 92,48% de accuracy en la muestra de validación"
   ]
  },
  {
   "cell_type": "code",
   "execution_count": 586,
   "metadata": {
    "collapsed": true
   },
   "outputs": [],
   "source": [
    "# Si quisieramos ver las predicciones sobre el conjunto de datos que tenemos:\n",
    "predictions = model.predict(X_test)\n",
    "# redondeamos para que se quede en 1 o 0.\n",
    "Predictions_rounded = [round(x[0]) for x in predictions]"
   ]
  },
  {
   "cell_type": "code",
   "execution_count": 445,
   "metadata": {},
   "outputs": [
    {
     "name": "stdout",
     "output_type": "stream",
     "text": [
      "_________________________________________________________________\n",
      "Layer (type)                 Output Shape              Param #   \n",
      "=================================================================\n",
      "dense_60 (Dense)             (None, 128)               1664      \n",
      "_________________________________________________________________\n",
      "dense_61 (Dense)             (None, 80)                10320     \n",
      "_________________________________________________________________\n",
      "dense_62 (Dense)             (None, 20)                1620      \n",
      "_________________________________________________________________\n",
      "dense_63 (Dense)             (None, 1)                 21        \n",
      "=================================================================\n",
      "Total params: 13,625\n",
      "Trainable params: 13,625\n",
      "Non-trainable params: 0\n",
      "_________________________________________________________________\n",
      "None\n"
     ]
    }
   ],
   "source": [
    "print(model.summary())"
   ]
  },
  {
   "cell_type": "markdown",
   "metadata": {},
   "source": [
    "Comprobamos el balanceo de las variables"
   ]
  },
  {
   "cell_type": "code",
   "execution_count": 587,
   "metadata": {
    "collapsed": true
   },
   "outputs": [],
   "source": [
    "tp,fn,fp,tn  = metrics.confusion_matrix(Y_test,Predictions_rounded,labels=[1,0]).ravel()"
   ]
  },
  {
   "cell_type": "code",
   "execution_count": 588,
   "metadata": {},
   "outputs": [
    {
     "data": {
      "text/plain": [
       "(311, 1696, 2935, 24985)"
      ]
     },
     "execution_count": 588,
     "metadata": {},
     "output_type": "execute_result"
    }
   ],
   "source": [
    "tp,fn,fp,tn"
   ]
  },
  {
   "cell_type": "code",
   "execution_count": 589,
   "metadata": {},
   "outputs": [
    {
     "data": {
      "text/plain": [
       "0.15495764823119082"
      ]
     },
     "execution_count": 589,
     "metadata": {},
     "output_type": "execute_result"
    }
   ],
   "source": [
    "sensitivity = tp/(tp+fn)\n",
    "sensitivity"
   ]
  },
  {
   "cell_type": "code",
   "execution_count": 590,
   "metadata": {},
   "outputs": [
    {
     "data": {
      "text/plain": [
       "0.894878223495702"
      ]
     },
     "execution_count": 590,
     "metadata": {},
     "output_type": "execute_result"
    }
   ],
   "source": [
    "specifity = tn/(fp+tn)\n",
    "specifity"
   ]
  },
  {
   "cell_type": "code",
   "execution_count": 295,
   "metadata": {
    "collapsed": true
   },
   "outputs": [],
   "source": [
    "from sklearn.metrics import roc_curve\n",
    "from sklearn.metrics import auc\n",
    "from sklearn.metrics import roc_auc_score"
   ]
  },
  {
   "cell_type": "code",
   "execution_count": 591,
   "metadata": {
    "collapsed": true
   },
   "outputs": [],
   "source": [
    "fpr = dict()\n",
    "tpr = dict()\n",
    "roc_auc = dict()\n",
    "for i in range(2):\n",
    "    fpr[i], tpr[i], _ = roc_curve(Y_test,Predictions_rounded)\n",
    "    roc_auc[i] = auc(fpr[i], tpr[i])"
   ]
  },
  {
   "cell_type": "code",
   "execution_count": 592,
   "metadata": {},
   "outputs": [
    {
     "data": {
      "image/png": "[encoded data removed]",
      "text/plain": [
       "<matplotlib.figure.Figure at 0x17507751390>"
      ]
     },
     "metadata": {},
     "output_type": "display_data"
    }
   ],
   "source": [
    "plt.figure()\n",
    "plt.plot(fpr[1], tpr[1])\n",
    "plt.xlim([0.0, 1.0])\n",
    "plt.ylim([0.0, 1.05])\n",
    "plt.xlabel('False Positive Rate')\n",
    "plt.ylabel('True Positive Rate')\n",
    "plt.title('Receiver operating characteristic')\n",
    "plt.show()"
   ]
  },
  {
   "cell_type": "markdown",
   "metadata": {},
   "source": [
    "En conclusión se puede observar como una red neuronal presenta una precisión muy alto para los que no han sufrido deliquency pero es muy mala para para predecir los casos de deliquency. Para predecir esos valores, tiene que cometer muchos errores con respecto a los que no lo han cometido"
   ]
  },
  {
   "cell_type": "code",
   "execution_count": 593,
   "metadata": {},
   "outputs": [
    {
     "name": "stdout",
     "output_type": "stream",
     "text": [
      "0.5249179358634464\n"
     ]
    }
   ],
   "source": [
    "print(roc_auc_score(Y_test,Predictions_rounded))"
   ]
  },
  {
   "cell_type": "markdown",
   "metadata": {},
   "source": [
    "Con esto finalizamos el primer ejemplo de introducción a la librería Keras. En el siguiente ejemplo profundizaremos un poco en Keras y crearemos una *Convolutional Neural Network* que han demostrado mejores resultados a la hora de enfrentar problemas de clasificación con imágenes como input."
   ]
  },
  {
   "cell_type": "markdown",
   "metadata": {},
   "source": [
    "[Siguiente : Ejemplo 2 - Redes Neuronales Convolucionales. Procesando imágenes](../Trabajo Redes Neuronales/Ejemplo_2_CNNs.ipynb)"
   ]
  }
 ],
 "metadata": {
  "kernelspec": {
   "display_name": "Python 3",
   "language": "python",
   "name": "python3"
  },
  "language_info": {
   "codemirror_mode": {
    "name": "ipython",
    "version": 3
   },
   "file_extension": ".py",
   "mimetype": "text/x-python",
   "name": "python",
   "nbconvert_exporter": "python",
   "pygments_lexer": "ipython3",
   "version": "3.6.1"
  }
 },
 "nbformat": 4,
 "nbformat_minor": 2
}
