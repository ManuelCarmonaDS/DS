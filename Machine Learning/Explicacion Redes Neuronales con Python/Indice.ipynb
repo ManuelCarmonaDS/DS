{
 "cells": [
  {
   "cell_type": "markdown",
   "metadata": {},
   "source": [
    "# Deep Learning\n",
    "\n",
    "## Introducción a las RRNN y ejemplos aplicados.\n",
    "\n",
    "\n"
   ]
  },
  {
   "cell_type": "markdown",
   "metadata": {},
   "source": [
    "Autores:\n",
    "- Manuel Carmona\n",
    "\n",
    "- Carlos Valenzuela\n",
    "\n",
    "- Carlos Vecina\n"
   ]
  },
  {
   "cell_type": "markdown",
   "metadata": {},
   "source": [
    "\n",
    "\n",
    "\n",
    "\n",
    "\n",
    "\n",
    "### Índice"
   ]
  },
  {
   "cell_type": "markdown",
   "metadata": {},
   "source": [
    "1. [Introducción a las Redes Neuronales. Construyendo la red desde 0](../Trabajo Redes Neuronales/Introduccion_RRNN.ipynb)\n",
    "\n",
    "2. [Ejemplo 1 - Redes Neuronales Keras](../Trabajo Redes Neuronales/Ejemplo_1_Keras.ipynb)\n",
    "\n",
    "3. [Ejemplo 2 - Redes Neuronales Convolucionales. Procesando imágenes](../Trabajo Redes Neuronales/Ejemplo_2_CNNs.ipynb)"
   ]
  }
 ],
 "metadata": {
  "kernelspec": {
   "display_name": "Python 3",
   "language": "python",
   "name": "python3"
  },
  "language_info": {
   "codemirror_mode": {
    "name": "ipython",
    "version": 3
   },
   "file_extension": ".py",
   "mimetype": "text/x-python",
   "name": "python",
   "nbconvert_exporter": "python",
   "pygments_lexer": "ipython3",
   "version": "3.6.1"
  }
 },
 "nbformat": 4,
 "nbformat_minor": 2
}
